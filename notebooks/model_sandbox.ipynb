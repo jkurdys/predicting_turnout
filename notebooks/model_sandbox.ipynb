{
 "cells": [
  {
   "cell_type": "code",
   "execution_count": 1,
   "id": "alive-treat",
   "metadata": {},
   "outputs": [],
   "source": [
    "import pickle\n",
    "import pandas as pd\n",
    "import numpy as np\n",
    "\n",
    "import seaborn as sns\n",
    "import matplotlib\n",
    "import matplotlib.pyplot as plt\n",
    "plt.style.use('ggplot')\n",
    "\n",
    "from scipy.stats import expon\n",
    "\n",
    "import statsmodels.formula.api as smf\n",
    "from sklearn.model_selection import train_test_split, RandomizedSearchCV\n",
    "from sklearn.linear_model import LogisticRegression\n",
    "from sklearn.ensemble import RandomForestClassifier, GradientBoostingClassifier\n",
    "from sklearn.metrics import (plot_confusion_matrix,\n",
    "                             classification_report,\n",
    "                             roc_curve,\n",
    "                             f1_score,\n",
    "                             balanced_accuracy_score,\n",
    "                             brier_score_loss,\n",
    "                             precision_recall_fscore_support,\n",
    "                             zero_one_loss)"
   ]
  },
  {
   "cell_type": "code",
   "execution_count": 2,
   "id": "empirical-entry",
   "metadata": {},
   "outputs": [],
   "source": [
    "def get_data(tablename):\n",
    "    '''\n",
    "    input desired table name as a string\n",
    "    returns table as pandas data frame\n",
    "    '''\n",
    "    df = pd.read_csv(f'../data/ga_archive/{tablename}', sep = '|')\n",
    "    return df"
   ]
  },
  {
   "cell_type": "code",
   "execution_count": 3,
   "id": "desperate-shanghai",
   "metadata": {},
   "outputs": [],
   "source": [
    "def clean_data(df):\n",
    "    vmask = df['date_last_voted'] >= '2020-11-03'\n",
    "    df['voted'] = vmask.map({True: int(1), False: int(0)})\n",
    "    \n",
    "    df = df.drop(['land_district','land_lot','status_reason','city_precinct_id','county_districta_name',\n",
    "                'county_districta_value','county_districtb_name','county_districtb_value','city_dista_name',\n",
    "                'city_dista_value','city_distb_name','city_distb_value','city_distc_name','city_distc_value',\n",
    "                'city_distd_name','city_distd_value','party_last_voted','city_school_district_name','municipal_name',\n",
    "                'municipal_code','ward_city_council_code','race_desc','residence_city','residence_zipcode',\n",
    "                'county_precinct_id','city_school_district_value','senate_district','house_district',\n",
    "                'judicial_district','commission_district','school_district','date_added','date_changed',\n",
    "                'district_combo','last_contact_date','ward_city_council_name','date_last_voted','registration_date',\n",
    "                'registration_number','voter_status'], axis=1)\n",
    "    \n",
    "    counties = ['Appling','Atkinson','Bacon','Baker','Baldwin','Banks','Barrow','Bartow','Ben_Hill','Berrien','Bibb',\n",
    "            'Bleckley','Brantley','Brooks','Bryan','Bulloch','Burke','Butts','Calhoun','Camden','Candler','Carroll',\n",
    "            'Catoosa','Charlton','Chatham','Chattahoochee','Chattooga','Cherokee','Clarke','Clay','Clayton','Clinch',\n",
    "            'Cobb','Coffee','Colquitt','Columbia','Cook','Coweta','Crawford','Crisp','Dade','Dawson','De_Kalb',\n",
    "            'Decatur','Dodge','Dooly','Dougherty','Douglas','Early','Echols','Effingham','Elbert','Emanuel','Evans',\n",
    "            'Fannin','Fayette','Floyd','Forsyth','Franklin','Fulton','Gilmer','Glascock','Glynn','Gordon','Grady',\n",
    "            'Greene','Gwinnett','Habersham','Hall','Hancock','Haralson','Harris','Hart','Heard','Henry','Houston',\n",
    "            'Irwin','Jackson','Jasper','Jeff_Davis','Jefferson','Jenkins','Johnson','Jones','Lamar','Lanier',\n",
    "            'Laurens','Lee','Liberty','Lincoln','Long','Lowndes','Lumpkin','Macon','Madison','Marion','McDuffie',\n",
    "            'McIntosh','Meriwether','Miller','Mitchell','Monroe','Montgomery','Morgan','Murray','Muscogee','Newton',\n",
    "            'Oconee','Oglethorpe','Paulding','Peach','Pickens','Pierce','Pike','Polk','Pulaski','Putnam','Quitman',\n",
    "            'Rabun','Randolph','Richmond','Rockdale','Schley','Screven','Seminole','Spalding','Stephens','Stewart',\n",
    "            'Sumter','Talbot','Taliaferro','Tattnall','Taylor','Telfair','Terrell','Thomas','Tift','Toombs','Towns',\n",
    "            'Treutlen','Troup','Turner','Twiggs','Union','Upson','Walker','Walton','Ware','Warren','Washington',\n",
    "            'Wayne','Webster','Wheeler','White','Whitfield','Wilcox','Wilkes','Wilkinson','Worth']\n",
    "    \n",
    "    keys = range(1,161)\n",
    "    county_dict = {}\n",
    "    for key in keys:\n",
    "        for county in counties:\n",
    "            county_dict[key] = county\n",
    "            counties.remove(county)\n",
    "            break\n",
    "            \n",
    "    df['county_code'] = df['county_code'].replace(county_dict)\n",
    "    df = df.rename(columns={'county_code': 'county'})\n",
    "    \n",
    "    rural = ['Appling', 'Atkinson','Bacon','Baker','Baldwin','Banks','Ben_Hill','Berrien','Bleckley','Brantley','Brooks',\n",
    "         'Bryan','Burke','Butts','Calhoun','Candler','Charlton','Chattahoochee','Chattooga','Clay','Clinch','Coffee',\n",
    "         'Colquitt','Cook','Crawford','Crisp','Dade','Dawson','Decatur','Dodge','Dooly','Early','Echols','Elbert',\n",
    "         'Emanuel','Evans','Fannin','Franklin','Gilmer','Glascock','Grady','Greene','Habersham','Hancock','Haralson',\n",
    "         'Harris','Hart','Heard','Irwin','Jasper','Jeff_Davis','Jefferson','Jenkins','Johnson','Jones','Lamar',\n",
    "         'Lanier', 'Laurens','Lee','Lincoln','Long','Lumpkin','Macon','Madison','Marion','McDuffie','McIntosh',\n",
    "         'Meriwether','Miller','Mitchell','Monroe','Montgomery','Morgan','Murray','Oconee','Oglethorpe','Peach',\n",
    "         'Pickens','Pierce','Pike','Polk','Pulaski','Putnam','Quitman','Rabun','Randolph','Schley','Screven',\n",
    "         'Seminole','Stephens','Stewart','Sumter','Talbot','Taliaferro','Tattnall','Taylor','Telfair','Terrell',\n",
    "         'Thomas','Tift','Toombs','Towns','Treutlen','Turner','Twiggs','Union','Upson','Ware','Warren','Washington',\n",
    "         'Wayne','Webster','Wheeler','White','Wilcox','Wilkes','Wilkinson','Worth']\n",
    "    \n",
    "    urban = ['Barrow','Bartow','Bibb','Bulloch','Carroll','Catoosa','Chatham','Cherokee','Clarke','Clayton','Cobb',\n",
    "         'Columbia','Coweta','De_Kalb','Dougherty','Douglas','Effingham','Fayette','Floyd','Forsyth','Fulton','Glynn',\n",
    "         'Gordon','Gwinnett','Hall','Henry','Houston','Jackson','Lowndes','Muscogee','Newton','Paulding','Richmond',\n",
    "         'Rockdale','Spalding','Troup','Walker','Walton','Whitfield']\n",
    "    \n",
    "    military = ['Camden','Liberty']\n",
    "    \n",
    "    r_dummies = pd.get_dummies(df['race'], dtype='int64')\n",
    "    df[r_dummies.columns] = r_dummies\n",
    "    df = df.drop(['race'], axis=1)\n",
    "    \n",
    "    g_dummies = pd.get_dummies(df['gender'], dtype='int64')\n",
    "    df[g_dummies.columns] = g_dummies\n",
    "    df = df.drop(['gender'], axis=1)\n",
    "    \n",
    "    cd_dummies = pd.get_dummies(df['congressional_district'], prefix='cd', dtype='int64')\n",
    "    df[cd_dummies.columns] = cd_dummies\n",
    "    df = df.drop(['congressional_district'], axis=1)\n",
    "    \n",
    "    df['age'] = 2020 - df['birthyear']\n",
    "    df['age'] = df['age'].astype('int64')\n",
    "    df = df.drop(['birthyear'], axis=1)\n",
    "    \n",
    "    r_mask = df['county'].isin(rural)\n",
    "    u_mask = df['county'].isin(urban)\n",
    "    m_mask = df['county'].isin(military)\n",
    "\n",
    "    df['rural'] = r_mask\n",
    "    df['urban'] = u_mask\n",
    "    df['military'] = m_mask\n",
    "\n",
    "    df['rural'] = df['rural'].map({True: int(1), False: int(0)})\n",
    "    df['urban'] = df['urban'].map({True: int(1), False: int(0)})\n",
    "    df['military'] = df['military'].map({True: int(1), False: int(0)})\n",
    "\n",
    "    df = df.drop('county', axis=1)\n",
    "    \n",
    "    return df"
   ]
  },
  {
   "cell_type": "code",
   "execution_count": 4,
   "id": "pointed-belfast",
   "metadata": {},
   "outputs": [
    {
     "name": "stderr",
     "output_type": "stream",
     "text": [
      "/opt/anaconda3/lib/python3.7/site-packages/IPython/core/interactiveshell.py:3347: DtypeWarning: Columns (4,9,10,11,39) have mixed types.Specify dtype option on import or set low_memory=False.\n",
      "  if (await self.run_code(code, result,  async_=asy)):\n"
     ]
    }
   ],
   "source": [
    "df = get_data('tbl_prod_GABU202012_all.csv')"
   ]
  },
  {
   "cell_type": "code",
   "execution_count": 4,
   "id": "legendary-watson",
   "metadata": {},
   "outputs": [],
   "source": [
    "train = pd.read_pickle('../data/train_samp.pkl')\n",
    "hold = pd.read_pickle('../data/hold_samp.pkl')"
   ]
  },
  {
   "cell_type": "code",
   "execution_count": 5,
   "id": "rental-cologne",
   "metadata": {},
   "outputs": [],
   "source": [
    "X = train\n",
    "y = X.pop('voted')"
   ]
  },
  {
   "cell_type": "code",
   "execution_count": 6,
   "id": "greek-wound",
   "metadata": {},
   "outputs": [],
   "source": [
    "X_train, X_test, y_train, y_test = train_test_split(X, y, random_state=1, stratify = y)"
   ]
  },
  {
   "cell_type": "code",
   "execution_count": 10,
   "id": "falling-creek",
   "metadata": {},
   "outputs": [],
   "source": [
    "def get_statsmodels_logit_model(X,y, grouping=5):\n",
    "    groupings = ['y~ age',\n",
    "                 'y~ C(AI) + C(AP) + C(BH) + C(HP) + C(OT) + C(U) + C(WH)',\n",
    "                 'y~ C(F) + C(M) + C(O)',\n",
    "                 'y~ C(rural) + C(urban) + C(military)',\n",
    "                 'y~ C(cd_1) + C(cd_2) + C(cd_3) + C(cd_4) + C(cd_5) + C(cd_6) + C(cd_7) + C(cd_8) + C(cd_9) + C(cd_10) + C(cd_11) + C(cd_12) + C(cd_13) + C(cd_14) + C(cd_99999)',\n",
    "                 'y~ C(AI) + C(AP) + C(BH) + C(HP) + C(OT) + C(U) + C(WH) + C(F) + C(M) + C(O) + C(rural) + C(urban) + C(military) + C(cd_1) + C(cd_2) + C(cd_3) + C(cd_4) + C(cd_5) + C(cd_6) + C(cd_7) + C(cd_8) + C(cd_9) + C(cd_10) + C(cd_11) + C(cd_12) + C(cd_13) + C(cd_14) + C(cd_99999) + age']\n",
    "    \n",
    "    model= smf.logit(formula=groupings[grouping], data= X).fit()\n",
    "    return model"
   ]
  },
  {
   "cell_type": "code",
   "execution_count": 11,
   "id": "found-interface",
   "metadata": {},
   "outputs": [
    {
     "name": "stdout",
     "output_type": "stream",
     "text": [
      "Warning: Maximum number of iterations has been exceeded.\n",
      "         Current function value: 0.607798\n",
      "         Iterations: 35\n"
     ]
    },
    {
     "name": "stderr",
     "output_type": "stream",
     "text": [
      "/opt/anaconda3/lib/python3.7/site-packages/statsmodels/base/model.py:568: ConvergenceWarning: Maximum Likelihood optimization failed to converge. Check mle_retvals\n",
      "  ConvergenceWarning)\n"
     ]
    },
    {
     "data": {
      "text/html": [
       "<table class=\"simpletable\">\n",
       "<caption>Logit Regression Results</caption>\n",
       "<tr>\n",
       "  <th>Dep. Variable:</th>           <td>y</td>        <th>  No. Observations:  </th>  <td> 75000</td> \n",
       "</tr>\n",
       "<tr>\n",
       "  <th>Model:</th>                 <td>Logit</td>      <th>  Df Residuals:      </th>  <td> 74972</td> \n",
       "</tr>\n",
       "<tr>\n",
       "  <th>Method:</th>                 <td>MLE</td>       <th>  Df Model:          </th>  <td>    27</td> \n",
       "</tr>\n",
       "<tr>\n",
       "  <th>Date:</th>            <td>Wed, 21 Apr 2021</td> <th>  Pseudo R-squ.:     </th>  <td>0.06442</td>\n",
       "</tr>\n",
       "<tr>\n",
       "  <th>Time:</th>                <td>12:28:35</td>     <th>  Log-Likelihood:    </th> <td> -45585.</td>\n",
       "</tr>\n",
       "<tr>\n",
       "  <th>converged:</th>             <td>False</td>      <th>  LL-Null:           </th> <td> -48724.</td>\n",
       "</tr>\n",
       "<tr>\n",
       "  <th>Covariance Type:</th>     <td>nonrobust</td>    <th>  LLR p-value:       </th>  <td> 0.000</td> \n",
       "</tr>\n",
       "</table>\n",
       "<table class=\"simpletable\">\n",
       "<tr>\n",
       "          <td></td>            <th>coef</th>     <th>std err</th>      <th>z</th>      <th>P>|z|</th>  <th>[0.025</th>    <th>0.975]</th>  \n",
       "</tr>\n",
       "<tr>\n",
       "  <th>Intercept</th>        <td>   -0.6170</td> <td> 2.82e+05</td> <td>-2.19e-06</td> <td> 1.000</td> <td>-5.52e+05</td> <td> 5.52e+05</td>\n",
       "</tr>\n",
       "<tr>\n",
       "  <th>C(AI)[T.1]</th>       <td>   -0.5825</td> <td> 4.78e+05</td> <td>-1.22e-06</td> <td> 1.000</td> <td>-9.38e+05</td> <td> 9.38e+05</td>\n",
       "</tr>\n",
       "<tr>\n",
       "  <th>C(AP)[T.1]</th>       <td>   -0.0009</td> <td> 4.79e+05</td> <td>-1.78e-09</td> <td> 1.000</td> <td>-9.38e+05</td> <td> 9.38e+05</td>\n",
       "</tr>\n",
       "<tr>\n",
       "  <th>C(BH)[T.1]</th>       <td>   -0.0167</td> <td> 4.79e+05</td> <td>-3.48e-08</td> <td> 1.000</td> <td>-9.38e+05</td> <td> 9.38e+05</td>\n",
       "</tr>\n",
       "<tr>\n",
       "  <th>C(HP)[T.1]</th>       <td>   -0.1505</td> <td> 4.78e+05</td> <td>-3.15e-07</td> <td> 1.000</td> <td>-9.37e+05</td> <td> 9.37e+05</td>\n",
       "</tr>\n",
       "<tr>\n",
       "  <th>C(OT)[T.1]</th>       <td>   -0.1744</td> <td> 4.78e+05</td> <td>-3.65e-07</td> <td> 1.000</td> <td>-9.37e+05</td> <td> 9.37e+05</td>\n",
       "</tr>\n",
       "<tr>\n",
       "  <th>C(U)[T.1]</th>        <td>   -0.4450</td> <td> 4.79e+05</td> <td>-9.29e-07</td> <td> 1.000</td> <td>-9.39e+05</td> <td> 9.39e+05</td>\n",
       "</tr>\n",
       "<tr>\n",
       "  <th>C(WH)[T.1]</th>       <td>    0.4059</td> <td> 4.78e+05</td> <td> 8.48e-07</td> <td> 1.000</td> <td>-9.38e+05</td> <td> 9.38e+05</td>\n",
       "</tr>\n",
       "<tr>\n",
       "  <th>C(F)[T.1]</th>        <td>   -0.0492</td> <td> 9.82e+05</td> <td>-5.01e-08</td> <td> 1.000</td> <td>-1.92e+06</td> <td> 1.92e+06</td>\n",
       "</tr>\n",
       "<tr>\n",
       "  <th>C(M)[T.1]</th>        <td>   -0.3045</td> <td> 9.84e+05</td> <td> -3.1e-07</td> <td> 1.000</td> <td>-1.93e+06</td> <td> 1.93e+06</td>\n",
       "</tr>\n",
       "<tr>\n",
       "  <th>C(O)[T.1]</th>        <td>   -0.5989</td> <td> 9.84e+05</td> <td>-6.09e-07</td> <td> 1.000</td> <td>-1.93e+06</td> <td> 1.93e+06</td>\n",
       "</tr>\n",
       "<tr>\n",
       "  <th>C(rural)[T.1]</th>    <td>   -0.1139</td> <td> 4.61e+05</td> <td>-2.47e-07</td> <td> 1.000</td> <td>-9.03e+05</td> <td> 9.03e+05</td>\n",
       "</tr>\n",
       "<tr>\n",
       "  <th>C(urban)[T.1]</th>    <td>   -0.1590</td> <td> 4.61e+05</td> <td>-3.45e-07</td> <td> 1.000</td> <td>-9.04e+05</td> <td> 9.04e+05</td>\n",
       "</tr>\n",
       "<tr>\n",
       "  <th>C(military)[T.1]</th> <td>   -0.3217</td> <td> 4.62e+05</td> <td>-6.97e-07</td> <td> 1.000</td> <td>-9.05e+05</td> <td> 9.05e+05</td>\n",
       "</tr>\n",
       "<tr>\n",
       "  <th>C(cd_1)[T.1]</th>     <td>   -0.0017</td> <td> 7.89e+05</td> <td>-2.11e-09</td> <td> 1.000</td> <td>-1.55e+06</td> <td> 1.55e+06</td>\n",
       "</tr>\n",
       "<tr>\n",
       "  <th>C(cd_2)[T.1]</th>     <td>   -0.0526</td> <td> 7.89e+05</td> <td>-6.67e-08</td> <td> 1.000</td> <td>-1.55e+06</td> <td> 1.55e+06</td>\n",
       "</tr>\n",
       "<tr>\n",
       "  <th>C(cd_3)[T.1]</th>     <td>    0.2244</td> <td> 7.89e+05</td> <td> 2.84e-07</td> <td> 1.000</td> <td>-1.55e+06</td> <td> 1.55e+06</td>\n",
       "</tr>\n",
       "<tr>\n",
       "  <th>C(cd_4)[T.1]</th>     <td>    0.2369</td> <td> 7.89e+05</td> <td>    3e-07</td> <td> 1.000</td> <td>-1.55e+06</td> <td> 1.55e+06</td>\n",
       "</tr>\n",
       "<tr>\n",
       "  <th>C(cd_5)[T.1]</th>     <td>   -0.0378</td> <td> 7.89e+05</td> <td>-4.79e-08</td> <td> 1.000</td> <td>-1.55e+06</td> <td> 1.55e+06</td>\n",
       "</tr>\n",
       "<tr>\n",
       "  <th>C(cd_6)[T.1]</th>     <td>    0.5497</td> <td> 7.89e+05</td> <td> 6.96e-07</td> <td> 1.000</td> <td>-1.55e+06</td> <td> 1.55e+06</td>\n",
       "</tr>\n",
       "<tr>\n",
       "  <th>C(cd_7)[T.1]</th>     <td>    0.3882</td> <td> 7.89e+05</td> <td> 4.92e-07</td> <td> 1.000</td> <td>-1.55e+06</td> <td> 1.55e+06</td>\n",
       "</tr>\n",
       "<tr>\n",
       "  <th>C(cd_8)[T.1]</th>     <td>    0.0561</td> <td> 7.89e+05</td> <td>  7.1e-08</td> <td> 1.000</td> <td>-1.55e+06</td> <td> 1.55e+06</td>\n",
       "</tr>\n",
       "<tr>\n",
       "  <th>C(cd_9)[T.1]</th>     <td>    0.1554</td> <td> 7.89e+05</td> <td> 1.97e-07</td> <td> 1.000</td> <td>-1.55e+06</td> <td> 1.55e+06</td>\n",
       "</tr>\n",
       "<tr>\n",
       "  <th>C(cd_10)[T.1]</th>    <td>    0.3269</td> <td> 7.89e+05</td> <td> 4.14e-07</td> <td> 1.000</td> <td>-1.55e+06</td> <td> 1.55e+06</td>\n",
       "</tr>\n",
       "<tr>\n",
       "  <th>C(cd_11)[T.1]</th>    <td>    0.3930</td> <td> 7.89e+05</td> <td> 4.98e-07</td> <td> 1.000</td> <td>-1.55e+06</td> <td> 1.55e+06</td>\n",
       "</tr>\n",
       "<tr>\n",
       "  <th>C(cd_12)[T.1]</th>    <td>    0.1385</td> <td> 7.89e+05</td> <td> 1.76e-07</td> <td> 1.000</td> <td>-1.55e+06</td> <td> 1.55e+06</td>\n",
       "</tr>\n",
       "<tr>\n",
       "  <th>C(cd_13)[T.1]</th>    <td>    0.3194</td> <td> 7.89e+05</td> <td> 4.05e-07</td> <td> 1.000</td> <td>-1.55e+06</td> <td> 1.55e+06</td>\n",
       "</tr>\n",
       "<tr>\n",
       "  <th>C(cd_14)[T.1]</th>    <td>    0.1319</td> <td> 7.89e+05</td> <td> 1.67e-07</td> <td> 1.000</td> <td>-1.55e+06</td> <td> 1.55e+06</td>\n",
       "</tr>\n",
       "<tr>\n",
       "  <th>C(cd_99999)[T.1]</th> <td>   -3.5304</td> <td> 7.89e+05</td> <td>-4.47e-06</td> <td> 1.000</td> <td>-1.55e+06</td> <td> 1.55e+06</td>\n",
       "</tr>\n",
       "<tr>\n",
       "  <th>age</th>              <td>    0.0265</td> <td>    0.000</td> <td>   56.447</td> <td> 0.000</td> <td>    0.026</td> <td>    0.027</td>\n",
       "</tr>\n",
       "</table>"
      ],
      "text/plain": [
       "<class 'statsmodels.iolib.summary.Summary'>\n",
       "\"\"\"\n",
       "                           Logit Regression Results                           \n",
       "==============================================================================\n",
       "Dep. Variable:                      y   No. Observations:                75000\n",
       "Model:                          Logit   Df Residuals:                    74972\n",
       "Method:                           MLE   Df Model:                           27\n",
       "Date:                Wed, 21 Apr 2021   Pseudo R-squ.:                 0.06442\n",
       "Time:                        12:28:35   Log-Likelihood:                -45585.\n",
       "converged:                      False   LL-Null:                       -48724.\n",
       "Covariance Type:            nonrobust   LLR p-value:                     0.000\n",
       "====================================================================================\n",
       "                       coef    std err          z      P>|z|      [0.025      0.975]\n",
       "------------------------------------------------------------------------------------\n",
       "Intercept           -0.6170   2.82e+05  -2.19e-06      1.000   -5.52e+05    5.52e+05\n",
       "C(AI)[T.1]          -0.5825   4.78e+05  -1.22e-06      1.000   -9.38e+05    9.38e+05\n",
       "C(AP)[T.1]          -0.0009   4.79e+05  -1.78e-09      1.000   -9.38e+05    9.38e+05\n",
       "C(BH)[T.1]          -0.0167   4.79e+05  -3.48e-08      1.000   -9.38e+05    9.38e+05\n",
       "C(HP)[T.1]          -0.1505   4.78e+05  -3.15e-07      1.000   -9.37e+05    9.37e+05\n",
       "C(OT)[T.1]          -0.1744   4.78e+05  -3.65e-07      1.000   -9.37e+05    9.37e+05\n",
       "C(U)[T.1]           -0.4450   4.79e+05  -9.29e-07      1.000   -9.39e+05    9.39e+05\n",
       "C(WH)[T.1]           0.4059   4.78e+05   8.48e-07      1.000   -9.38e+05    9.38e+05\n",
       "C(F)[T.1]           -0.0492   9.82e+05  -5.01e-08      1.000   -1.92e+06    1.92e+06\n",
       "C(M)[T.1]           -0.3045   9.84e+05   -3.1e-07      1.000   -1.93e+06    1.93e+06\n",
       "C(O)[T.1]           -0.5989   9.84e+05  -6.09e-07      1.000   -1.93e+06    1.93e+06\n",
       "C(rural)[T.1]       -0.1139   4.61e+05  -2.47e-07      1.000   -9.03e+05    9.03e+05\n",
       "C(urban)[T.1]       -0.1590   4.61e+05  -3.45e-07      1.000   -9.04e+05    9.04e+05\n",
       "C(military)[T.1]    -0.3217   4.62e+05  -6.97e-07      1.000   -9.05e+05    9.05e+05\n",
       "C(cd_1)[T.1]        -0.0017   7.89e+05  -2.11e-09      1.000   -1.55e+06    1.55e+06\n",
       "C(cd_2)[T.1]        -0.0526   7.89e+05  -6.67e-08      1.000   -1.55e+06    1.55e+06\n",
       "C(cd_3)[T.1]         0.2244   7.89e+05   2.84e-07      1.000   -1.55e+06    1.55e+06\n",
       "C(cd_4)[T.1]         0.2369   7.89e+05      3e-07      1.000   -1.55e+06    1.55e+06\n",
       "C(cd_5)[T.1]        -0.0378   7.89e+05  -4.79e-08      1.000   -1.55e+06    1.55e+06\n",
       "C(cd_6)[T.1]         0.5497   7.89e+05   6.96e-07      1.000   -1.55e+06    1.55e+06\n",
       "C(cd_7)[T.1]         0.3882   7.89e+05   4.92e-07      1.000   -1.55e+06    1.55e+06\n",
       "C(cd_8)[T.1]         0.0561   7.89e+05    7.1e-08      1.000   -1.55e+06    1.55e+06\n",
       "C(cd_9)[T.1]         0.1554   7.89e+05   1.97e-07      1.000   -1.55e+06    1.55e+06\n",
       "C(cd_10)[T.1]        0.3269   7.89e+05   4.14e-07      1.000   -1.55e+06    1.55e+06\n",
       "C(cd_11)[T.1]        0.3930   7.89e+05   4.98e-07      1.000   -1.55e+06    1.55e+06\n",
       "C(cd_12)[T.1]        0.1385   7.89e+05   1.76e-07      1.000   -1.55e+06    1.55e+06\n",
       "C(cd_13)[T.1]        0.3194   7.89e+05   4.05e-07      1.000   -1.55e+06    1.55e+06\n",
       "C(cd_14)[T.1]        0.1319   7.89e+05   1.67e-07      1.000   -1.55e+06    1.55e+06\n",
       "C(cd_99999)[T.1]    -3.5304   7.89e+05  -4.47e-06      1.000   -1.55e+06    1.55e+06\n",
       "age                  0.0265      0.000     56.447      0.000       0.026       0.027\n",
       "====================================================================================\n",
       "\"\"\""
      ]
     },
     "execution_count": 11,
     "metadata": {},
     "output_type": "execute_result"
    }
   ],
   "source": [
    "model = get_statsmodels_logit_model(X_train, y_train, grouping=5)\n",
    "model.summary()"
   ]
  },
  {
   "cell_type": "code",
   "execution_count": 12,
   "id": "compact-surface",
   "metadata": {},
   "outputs": [
    {
     "name": "stdout",
     "output_type": "stream",
     "text": [
      "Warning: Maximum number of iterations has been exceeded.\n",
      "         Current function value: 0.644482\n",
      "         Iterations: 35\n"
     ]
    },
    {
     "name": "stderr",
     "output_type": "stream",
     "text": [
      "/opt/anaconda3/lib/python3.7/site-packages/statsmodels/base/model.py:568: ConvergenceWarning: Maximum Likelihood optimization failed to converge. Check mle_retvals\n",
      "  ConvergenceWarning)\n"
     ]
    },
    {
     "data": {
      "text/html": [
       "<table class=\"simpletable\">\n",
       "<caption>Logit Regression Results</caption>\n",
       "<tr>\n",
       "  <th>Dep. Variable:</th>           <td>y</td>        <th>  No. Observations:  </th>   <td> 75000</td>  \n",
       "</tr>\n",
       "<tr>\n",
       "  <th>Model:</th>                 <td>Logit</td>      <th>  Df Residuals:      </th>   <td> 74984</td>  \n",
       "</tr>\n",
       "<tr>\n",
       "  <th>Method:</th>                 <td>MLE</td>       <th>  Df Model:          </th>   <td>    15</td>  \n",
       "</tr>\n",
       "<tr>\n",
       "  <th>Date:</th>            <td>Wed, 21 Apr 2021</td> <th>  Pseudo R-squ.:     </th>  <td>0.007949</td> \n",
       "</tr>\n",
       "<tr>\n",
       "  <th>Time:</th>                <td>12:29:06</td>     <th>  Log-Likelihood:    </th>  <td> -48336.</td> \n",
       "</tr>\n",
       "<tr>\n",
       "  <th>converged:</th>             <td>False</td>      <th>  LL-Null:           </th>  <td> -48724.</td> \n",
       "</tr>\n",
       "<tr>\n",
       "  <th>Covariance Type:</th>     <td>nonrobust</td>    <th>  LLR p-value:       </th> <td>2.209e-155</td>\n",
       "</tr>\n",
       "</table>\n",
       "<table class=\"simpletable\">\n",
       "<tr>\n",
       "          <td></td>            <th>coef</th>     <th>std err</th>      <th>z</th>      <th>P>|z|</th>  <th>[0.025</th>    <th>0.975]</th>  \n",
       "</tr>\n",
       "<tr>\n",
       "  <th>Intercept</th>        <td>    0.3357</td> <td> 2.66e+05</td> <td> 1.26e-06</td> <td> 1.000</td> <td>-5.21e+05</td> <td> 5.21e+05</td>\n",
       "</tr>\n",
       "<tr>\n",
       "  <th>C(cd_1)[T.1]</th>     <td>    0.0889</td> <td> 2.66e+05</td> <td> 3.34e-07</td> <td> 1.000</td> <td>-5.21e+05</td> <td> 5.21e+05</td>\n",
       "</tr>\n",
       "<tr>\n",
       "  <th>C(cd_2)[T.1]</th>     <td>    0.0213</td> <td> 2.66e+05</td> <td> 8.02e-08</td> <td> 1.000</td> <td>-5.21e+05</td> <td> 5.21e+05</td>\n",
       "</tr>\n",
       "<tr>\n",
       "  <th>C(cd_3)[T.1]</th>     <td>    0.3620</td> <td> 2.66e+05</td> <td> 1.36e-06</td> <td> 1.000</td> <td>-5.21e+05</td> <td> 5.21e+05</td>\n",
       "</tr>\n",
       "<tr>\n",
       "  <th>C(cd_4)[T.1]</th>     <td>    0.1716</td> <td> 2.66e+05</td> <td> 6.46e-07</td> <td> 1.000</td> <td>-5.21e+05</td> <td> 5.21e+05</td>\n",
       "</tr>\n",
       "<tr>\n",
       "  <th>C(cd_5)[T.1]</th>     <td>   -0.1390</td> <td> 2.66e+05</td> <td>-5.23e-07</td> <td> 1.000</td> <td>-5.21e+05</td> <td> 5.21e+05</td>\n",
       "</tr>\n",
       "<tr>\n",
       "  <th>C(cd_6)[T.1]</th>     <td>    0.6460</td> <td> 2.66e+05</td> <td> 2.43e-06</td> <td> 1.000</td> <td>-5.21e+05</td> <td> 5.21e+05</td>\n",
       "</tr>\n",
       "<tr>\n",
       "  <th>C(cd_7)[T.1]</th>     <td>    0.3558</td> <td> 2.66e+05</td> <td> 1.34e-06</td> <td> 1.000</td> <td>-5.21e+05</td> <td> 5.21e+05</td>\n",
       "</tr>\n",
       "<tr>\n",
       "  <th>C(cd_8)[T.1]</th>     <td>    0.2264</td> <td> 2.66e+05</td> <td> 8.52e-07</td> <td> 1.000</td> <td>-5.21e+05</td> <td> 5.21e+05</td>\n",
       "</tr>\n",
       "<tr>\n",
       "  <th>C(cd_9)[T.1]</th>     <td>    0.4206</td> <td> 2.66e+05</td> <td> 1.58e-06</td> <td> 1.000</td> <td>-5.21e+05</td> <td> 5.21e+05</td>\n",
       "</tr>\n",
       "<tr>\n",
       "  <th>C(cd_10)[T.1]</th>    <td>    0.4549</td> <td> 2.66e+05</td> <td> 1.71e-06</td> <td> 1.000</td> <td>-5.21e+05</td> <td> 5.21e+05</td>\n",
       "</tr>\n",
       "<tr>\n",
       "  <th>C(cd_11)[T.1]</th>    <td>    0.4833</td> <td> 2.66e+05</td> <td> 1.82e-06</td> <td> 1.000</td> <td>-5.21e+05</td> <td> 5.21e+05</td>\n",
       "</tr>\n",
       "<tr>\n",
       "  <th>C(cd_12)[T.1]</th>    <td>    0.2346</td> <td> 2.66e+05</td> <td> 8.83e-07</td> <td> 1.000</td> <td>-5.21e+05</td> <td> 5.21e+05</td>\n",
       "</tr>\n",
       "<tr>\n",
       "  <th>C(cd_13)[T.1]</th>    <td>    0.2241</td> <td> 2.66e+05</td> <td> 8.43e-07</td> <td> 1.000</td> <td>-5.21e+05</td> <td> 5.21e+05</td>\n",
       "</tr>\n",
       "<tr>\n",
       "  <th>C(cd_14)[T.1]</th>    <td>    0.3197</td> <td> 2.66e+05</td> <td>  1.2e-06</td> <td> 1.000</td> <td>-5.21e+05</td> <td> 5.21e+05</td>\n",
       "</tr>\n",
       "<tr>\n",
       "  <th>C(cd_99999)[T.1]</th> <td>   -3.5344</td> <td> 2.66e+05</td> <td>-1.33e-05</td> <td> 1.000</td> <td>-5.21e+05</td> <td> 5.21e+05</td>\n",
       "</tr>\n",
       "</table>"
      ],
      "text/plain": [
       "<class 'statsmodels.iolib.summary.Summary'>\n",
       "\"\"\"\n",
       "                           Logit Regression Results                           \n",
       "==============================================================================\n",
       "Dep. Variable:                      y   No. Observations:                75000\n",
       "Model:                          Logit   Df Residuals:                    74984\n",
       "Method:                           MLE   Df Model:                           15\n",
       "Date:                Wed, 21 Apr 2021   Pseudo R-squ.:                0.007949\n",
       "Time:                        12:29:06   Log-Likelihood:                -48336.\n",
       "converged:                      False   LL-Null:                       -48724.\n",
       "Covariance Type:            nonrobust   LLR p-value:                2.209e-155\n",
       "====================================================================================\n",
       "                       coef    std err          z      P>|z|      [0.025      0.975]\n",
       "------------------------------------------------------------------------------------\n",
       "Intercept            0.3357   2.66e+05   1.26e-06      1.000   -5.21e+05    5.21e+05\n",
       "C(cd_1)[T.1]         0.0889   2.66e+05   3.34e-07      1.000   -5.21e+05    5.21e+05\n",
       "C(cd_2)[T.1]         0.0213   2.66e+05   8.02e-08      1.000   -5.21e+05    5.21e+05\n",
       "C(cd_3)[T.1]         0.3620   2.66e+05   1.36e-06      1.000   -5.21e+05    5.21e+05\n",
       "C(cd_4)[T.1]         0.1716   2.66e+05   6.46e-07      1.000   -5.21e+05    5.21e+05\n",
       "C(cd_5)[T.1]        -0.1390   2.66e+05  -5.23e-07      1.000   -5.21e+05    5.21e+05\n",
       "C(cd_6)[T.1]         0.6460   2.66e+05   2.43e-06      1.000   -5.21e+05    5.21e+05\n",
       "C(cd_7)[T.1]         0.3558   2.66e+05   1.34e-06      1.000   -5.21e+05    5.21e+05\n",
       "C(cd_8)[T.1]         0.2264   2.66e+05   8.52e-07      1.000   -5.21e+05    5.21e+05\n",
       "C(cd_9)[T.1]         0.4206   2.66e+05   1.58e-06      1.000   -5.21e+05    5.21e+05\n",
       "C(cd_10)[T.1]        0.4549   2.66e+05   1.71e-06      1.000   -5.21e+05    5.21e+05\n",
       "C(cd_11)[T.1]        0.4833   2.66e+05   1.82e-06      1.000   -5.21e+05    5.21e+05\n",
       "C(cd_12)[T.1]        0.2346   2.66e+05   8.83e-07      1.000   -5.21e+05    5.21e+05\n",
       "C(cd_13)[T.1]        0.2241   2.66e+05   8.43e-07      1.000   -5.21e+05    5.21e+05\n",
       "C(cd_14)[T.1]        0.3197   2.66e+05    1.2e-06      1.000   -5.21e+05    5.21e+05\n",
       "C(cd_99999)[T.1]    -3.5344   2.66e+05  -1.33e-05      1.000   -5.21e+05    5.21e+05\n",
       "====================================================================================\n",
       "\"\"\""
      ]
     },
     "execution_count": 12,
     "metadata": {},
     "output_type": "execute_result"
    }
   ],
   "source": [
    "model = get_statsmodels_logit_model(X_train, y_train, grouping=4)\n",
    "model.summary()"
   ]
  },
  {
   "cell_type": "code",
   "execution_count": 13,
   "id": "passive-board",
   "metadata": {},
   "outputs": [
    {
     "name": "stdout",
     "output_type": "stream",
     "text": [
      "Warning: Maximum number of iterations has been exceeded.\n",
      "         Current function value: 0.649279\n",
      "         Iterations: 35\n"
     ]
    },
    {
     "name": "stderr",
     "output_type": "stream",
     "text": [
      "/opt/anaconda3/lib/python3.7/site-packages/statsmodels/base/model.py:568: ConvergenceWarning: Maximum Likelihood optimization failed to converge. Check mle_retvals\n",
      "  ConvergenceWarning)\n"
     ]
    },
    {
     "data": {
      "text/html": [
       "<table class=\"simpletable\">\n",
       "<caption>Logit Regression Results</caption>\n",
       "<tr>\n",
       "  <th>Dep. Variable:</th>           <td>y</td>        <th>  No. Observations:  </th>  <td> 75000</td>  \n",
       "</tr>\n",
       "<tr>\n",
       "  <th>Model:</th>                 <td>Logit</td>      <th>  Df Residuals:      </th>  <td> 74996</td>  \n",
       "</tr>\n",
       "<tr>\n",
       "  <th>Method:</th>                 <td>MLE</td>       <th>  Df Model:          </th>  <td>     3</td>  \n",
       "</tr>\n",
       "<tr>\n",
       "  <th>Date:</th>            <td>Wed, 21 Apr 2021</td> <th>  Pseudo R-squ.:     </th> <td>0.0005660</td>\n",
       "</tr>\n",
       "<tr>\n",
       "  <th>Time:</th>                <td>12:29:20</td>     <th>  Log-Likelihood:    </th> <td> -48696.</td> \n",
       "</tr>\n",
       "<tr>\n",
       "  <th>converged:</th>             <td>False</td>      <th>  LL-Null:           </th> <td> -48724.</td> \n",
       "</tr>\n",
       "<tr>\n",
       "  <th>Covariance Type:</th>     <td>nonrobust</td>    <th>  LLR p-value:       </th> <td>6.370e-12</td>\n",
       "</tr>\n",
       "</table>\n",
       "<table class=\"simpletable\">\n",
       "<tr>\n",
       "          <td></td>            <th>coef</th>     <th>std err</th>      <th>z</th>      <th>P>|z|</th>  <th>[0.025</th>    <th>0.975]</th>  \n",
       "</tr>\n",
       "<tr>\n",
       "  <th>Intercept</th>        <td>    0.3561</td> <td>      nan</td> <td>      nan</td> <td>   nan</td> <td>      nan</td> <td>      nan</td>\n",
       "</tr>\n",
       "<tr>\n",
       "  <th>C(rural)[T.1]</th>    <td>    0.3073</td> <td>      nan</td> <td>      nan</td> <td>   nan</td> <td>      nan</td> <td>      nan</td>\n",
       "</tr>\n",
       "<tr>\n",
       "  <th>C(urban)[T.1]</th>    <td>    0.2310</td> <td>      nan</td> <td>      nan</td> <td>   nan</td> <td>      nan</td> <td>      nan</td>\n",
       "</tr>\n",
       "<tr>\n",
       "  <th>C(military)[T.1]</th> <td>   -0.1822</td> <td>      nan</td> <td>      nan</td> <td>   nan</td> <td>      nan</td> <td>      nan</td>\n",
       "</tr>\n",
       "</table>"
      ],
      "text/plain": [
       "<class 'statsmodels.iolib.summary.Summary'>\n",
       "\"\"\"\n",
       "                           Logit Regression Results                           \n",
       "==============================================================================\n",
       "Dep. Variable:                      y   No. Observations:                75000\n",
       "Model:                          Logit   Df Residuals:                    74996\n",
       "Method:                           MLE   Df Model:                            3\n",
       "Date:                Wed, 21 Apr 2021   Pseudo R-squ.:               0.0005660\n",
       "Time:                        12:29:20   Log-Likelihood:                -48696.\n",
       "converged:                      False   LL-Null:                       -48724.\n",
       "Covariance Type:            nonrobust   LLR p-value:                 6.370e-12\n",
       "====================================================================================\n",
       "                       coef    std err          z      P>|z|      [0.025      0.975]\n",
       "------------------------------------------------------------------------------------\n",
       "Intercept            0.3561        nan        nan        nan         nan         nan\n",
       "C(rural)[T.1]        0.3073        nan        nan        nan         nan         nan\n",
       "C(urban)[T.1]        0.2310        nan        nan        nan         nan         nan\n",
       "C(military)[T.1]    -0.1822        nan        nan        nan         nan         nan\n",
       "====================================================================================\n",
       "\"\"\""
      ]
     },
     "execution_count": 13,
     "metadata": {},
     "output_type": "execute_result"
    }
   ],
   "source": [
    "model = get_statsmodels_logit_model(X_train, y_train, grouping=3)\n",
    "model.summary()"
   ]
  },
  {
   "cell_type": "code",
   "execution_count": 14,
   "id": "distinct-globe",
   "metadata": {},
   "outputs": [
    {
     "name": "stdout",
     "output_type": "stream",
     "text": [
      "Optimization terminated successfully.\n",
      "         Current function value: 0.647637\n",
      "         Iterations 16\n"
     ]
    },
    {
     "data": {
      "text/html": [
       "<table class=\"simpletable\">\n",
       "<caption>Logit Regression Results</caption>\n",
       "<tr>\n",
       "  <th>Dep. Variable:</th>           <td>y</td>        <th>  No. Observations:  </th>  <td> 75000</td>  \n",
       "</tr>\n",
       "<tr>\n",
       "  <th>Model:</th>                 <td>Logit</td>      <th>  Df Residuals:      </th>  <td> 74996</td>  \n",
       "</tr>\n",
       "<tr>\n",
       "  <th>Method:</th>                 <td>MLE</td>       <th>  Df Model:          </th>  <td>     3</td>  \n",
       "</tr>\n",
       "<tr>\n",
       "  <th>Date:</th>            <td>Wed, 21 Apr 2021</td> <th>  Pseudo R-squ.:     </th> <td>0.003094</td> \n",
       "</tr>\n",
       "<tr>\n",
       "  <th>Time:</th>                <td>12:29:38</td>     <th>  Log-Likelihood:    </th> <td> -48573.</td> \n",
       "</tr>\n",
       "<tr>\n",
       "  <th>converged:</th>             <td>True</td>       <th>  LL-Null:           </th> <td> -48724.</td> \n",
       "</tr>\n",
       "<tr>\n",
       "  <th>Covariance Type:</th>     <td>nonrobust</td>    <th>  LLR p-value:       </th> <td>4.797e-65</td>\n",
       "</tr>\n",
       "</table>\n",
       "<table class=\"simpletable\">\n",
       "<tr>\n",
       "      <td></td>         <th>coef</th>     <th>std err</th>      <th>z</th>      <th>P>|z|</th>  <th>[0.025</th>    <th>0.975]</th>  \n",
       "</tr>\n",
       "<tr>\n",
       "  <th>Intercept</th> <td>    0.2556</td> <td>      nan</td> <td>      nan</td> <td>   nan</td> <td>      nan</td> <td>      nan</td>\n",
       "</tr>\n",
       "<tr>\n",
       "  <th>C(F)[T.1]</th> <td>    0.4718</td> <td>      nan</td> <td>      nan</td> <td>   nan</td> <td>      nan</td> <td>      nan</td>\n",
       "</tr>\n",
       "<tr>\n",
       "  <th>C(M)[T.1]</th> <td>    0.2173</td> <td>      nan</td> <td>      nan</td> <td>   nan</td> <td>      nan</td> <td>      nan</td>\n",
       "</tr>\n",
       "<tr>\n",
       "  <th>C(O)[T.1]</th> <td>   -0.4336</td> <td>      nan</td> <td>      nan</td> <td>   nan</td> <td>      nan</td> <td>      nan</td>\n",
       "</tr>\n",
       "</table>"
      ],
      "text/plain": [
       "<class 'statsmodels.iolib.summary.Summary'>\n",
       "\"\"\"\n",
       "                           Logit Regression Results                           \n",
       "==============================================================================\n",
       "Dep. Variable:                      y   No. Observations:                75000\n",
       "Model:                          Logit   Df Residuals:                    74996\n",
       "Method:                           MLE   Df Model:                            3\n",
       "Date:                Wed, 21 Apr 2021   Pseudo R-squ.:                0.003094\n",
       "Time:                        12:29:38   Log-Likelihood:                -48573.\n",
       "converged:                       True   LL-Null:                       -48724.\n",
       "Covariance Type:            nonrobust   LLR p-value:                 4.797e-65\n",
       "==============================================================================\n",
       "                 coef    std err          z      P>|z|      [0.025      0.975]\n",
       "------------------------------------------------------------------------------\n",
       "Intercept      0.2556        nan        nan        nan         nan         nan\n",
       "C(F)[T.1]      0.4718        nan        nan        nan         nan         nan\n",
       "C(M)[T.1]      0.2173        nan        nan        nan         nan         nan\n",
       "C(O)[T.1]     -0.4336        nan        nan        nan         nan         nan\n",
       "==============================================================================\n",
       "\"\"\""
      ]
     },
     "execution_count": 14,
     "metadata": {},
     "output_type": "execute_result"
    }
   ],
   "source": [
    "model = get_statsmodels_logit_model(X_train, y_train, grouping=2)\n",
    "model.summary()"
   ]
  },
  {
   "cell_type": "code",
   "execution_count": 15,
   "id": "organized-adjustment",
   "metadata": {},
   "outputs": [
    {
     "name": "stdout",
     "output_type": "stream",
     "text": [
      "Warning: Maximum number of iterations has been exceeded.\n",
      "         Current function value: 0.636380\n",
      "         Iterations: 35\n"
     ]
    },
    {
     "name": "stderr",
     "output_type": "stream",
     "text": [
      "/opt/anaconda3/lib/python3.7/site-packages/statsmodels/base/model.py:568: ConvergenceWarning: Maximum Likelihood optimization failed to converge. Check mle_retvals\n",
      "  ConvergenceWarning)\n"
     ]
    },
    {
     "data": {
      "text/html": [
       "<table class=\"simpletable\">\n",
       "<caption>Logit Regression Results</caption>\n",
       "<tr>\n",
       "  <th>Dep. Variable:</th>           <td>y</td>        <th>  No. Observations:  </th>  <td> 75000</td> \n",
       "</tr>\n",
       "<tr>\n",
       "  <th>Model:</th>                 <td>Logit</td>      <th>  Df Residuals:      </th>  <td> 74992</td> \n",
       "</tr>\n",
       "<tr>\n",
       "  <th>Method:</th>                 <td>MLE</td>       <th>  Df Model:          </th>  <td>     7</td> \n",
       "</tr>\n",
       "<tr>\n",
       "  <th>Date:</th>            <td>Wed, 21 Apr 2021</td> <th>  Pseudo R-squ.:     </th>  <td>0.02042</td>\n",
       "</tr>\n",
       "<tr>\n",
       "  <th>Time:</th>                <td>12:29:49</td>     <th>  Log-Likelihood:    </th> <td> -47729.</td>\n",
       "</tr>\n",
       "<tr>\n",
       "  <th>converged:</th>             <td>False</td>      <th>  LL-Null:           </th> <td> -48724.</td>\n",
       "</tr>\n",
       "<tr>\n",
       "  <th>Covariance Type:</th>     <td>nonrobust</td>    <th>  LLR p-value:       </th>  <td> 0.000</td> \n",
       "</tr>\n",
       "</table>\n",
       "<table class=\"simpletable\">\n",
       "<tr>\n",
       "       <td></td>         <th>coef</th>     <th>std err</th>      <th>z</th>      <th>P>|z|</th>  <th>[0.025</th>    <th>0.975]</th>  \n",
       "</tr>\n",
       "<tr>\n",
       "  <th>Intercept</th>  <td>    0.2350</td> <td>      nan</td> <td>      nan</td> <td>   nan</td> <td>      nan</td> <td>      nan</td>\n",
       "</tr>\n",
       "<tr>\n",
       "  <th>C(AI)[T.1]</th> <td>   -0.4284</td> <td>      nan</td> <td>      nan</td> <td>   nan</td> <td>      nan</td> <td>      nan</td>\n",
       "</tr>\n",
       "<tr>\n",
       "  <th>C(AP)[T.1]</th> <td>    0.2744</td> <td>      nan</td> <td>      nan</td> <td>   nan</td> <td>      nan</td> <td>      nan</td>\n",
       "</tr>\n",
       "<tr>\n",
       "  <th>C(BH)[T.1]</th> <td>    0.1313</td> <td>      nan</td> <td>      nan</td> <td>   nan</td> <td>      nan</td> <td>      nan</td>\n",
       "</tr>\n",
       "<tr>\n",
       "  <th>C(HP)[T.1]</th> <td>   -0.0988</td> <td>      nan</td> <td>      nan</td> <td>   nan</td> <td>      nan</td> <td>      nan</td>\n",
       "</tr>\n",
       "<tr>\n",
       "  <th>C(OT)[T.1]</th> <td>   -0.1131</td> <td>      nan</td> <td>      nan</td> <td>   nan</td> <td>      nan</td> <td>      nan</td>\n",
       "</tr>\n",
       "<tr>\n",
       "  <th>C(U)[T.1]</th>  <td>   -0.2189</td> <td>      nan</td> <td>      nan</td> <td>   nan</td> <td>      nan</td> <td>      nan</td>\n",
       "</tr>\n",
       "<tr>\n",
       "  <th>C(WH)[T.1]</th> <td>    0.6886</td> <td>      nan</td> <td>      nan</td> <td>   nan</td> <td>      nan</td> <td>      nan</td>\n",
       "</tr>\n",
       "</table>"
      ],
      "text/plain": [
       "<class 'statsmodels.iolib.summary.Summary'>\n",
       "\"\"\"\n",
       "                           Logit Regression Results                           \n",
       "==============================================================================\n",
       "Dep. Variable:                      y   No. Observations:                75000\n",
       "Model:                          Logit   Df Residuals:                    74992\n",
       "Method:                           MLE   Df Model:                            7\n",
       "Date:                Wed, 21 Apr 2021   Pseudo R-squ.:                 0.02042\n",
       "Time:                        12:29:49   Log-Likelihood:                -47729.\n",
       "converged:                      False   LL-Null:                       -48724.\n",
       "Covariance Type:            nonrobust   LLR p-value:                     0.000\n",
       "==============================================================================\n",
       "                 coef    std err          z      P>|z|      [0.025      0.975]\n",
       "------------------------------------------------------------------------------\n",
       "Intercept      0.2350        nan        nan        nan         nan         nan\n",
       "C(AI)[T.1]    -0.4284        nan        nan        nan         nan         nan\n",
       "C(AP)[T.1]     0.2744        nan        nan        nan         nan         nan\n",
       "C(BH)[T.1]     0.1313        nan        nan        nan         nan         nan\n",
       "C(HP)[T.1]    -0.0988        nan        nan        nan         nan         nan\n",
       "C(OT)[T.1]    -0.1131        nan        nan        nan         nan         nan\n",
       "C(U)[T.1]     -0.2189        nan        nan        nan         nan         nan\n",
       "C(WH)[T.1]     0.6886        nan        nan        nan         nan         nan\n",
       "==============================================================================\n",
       "\"\"\""
      ]
     },
     "execution_count": 15,
     "metadata": {},
     "output_type": "execute_result"
    }
   ],
   "source": [
    "model = get_statsmodels_logit_model(X_train, y_train, grouping=1)\n",
    "model.summary()"
   ]
  },
  {
   "cell_type": "code",
   "execution_count": 16,
   "id": "unable-volume",
   "metadata": {},
   "outputs": [
    {
     "name": "stdout",
     "output_type": "stream",
     "text": [
      "Optimization terminated successfully.\n",
      "         Current function value: 0.622195\n",
      "         Iterations 5\n"
     ]
    },
    {
     "data": {
      "text/html": [
       "<table class=\"simpletable\">\n",
       "<caption>Logit Regression Results</caption>\n",
       "<tr>\n",
       "  <th>Dep. Variable:</th>           <td>y</td>        <th>  No. Observations:  </th>  <td> 75000</td> \n",
       "</tr>\n",
       "<tr>\n",
       "  <th>Model:</th>                 <td>Logit</td>      <th>  Df Residuals:      </th>  <td> 74998</td> \n",
       "</tr>\n",
       "<tr>\n",
       "  <th>Method:</th>                 <td>MLE</td>       <th>  Df Model:          </th>  <td>     1</td> \n",
       "</tr>\n",
       "<tr>\n",
       "  <th>Date:</th>            <td>Wed, 21 Apr 2021</td> <th>  Pseudo R-squ.:     </th>  <td>0.04226</td>\n",
       "</tr>\n",
       "<tr>\n",
       "  <th>Time:</th>                <td>12:30:27</td>     <th>  Log-Likelihood:    </th> <td> -46665.</td>\n",
       "</tr>\n",
       "<tr>\n",
       "  <th>converged:</th>             <td>True</td>       <th>  LL-Null:           </th> <td> -48724.</td>\n",
       "</tr>\n",
       "<tr>\n",
       "  <th>Covariance Type:</th>     <td>nonrobust</td>    <th>  LLR p-value:       </th>  <td> 0.000</td> \n",
       "</tr>\n",
       "</table>\n",
       "<table class=\"simpletable\">\n",
       "<tr>\n",
       "      <td></td>         <th>coef</th>     <th>std err</th>      <th>z</th>      <th>P>|z|</th>  <th>[0.025</th>    <th>0.975]</th>  \n",
       "</tr>\n",
       "<tr>\n",
       "  <th>Intercept</th> <td>   -0.6713</td> <td>    0.021</td> <td>  -31.239</td> <td> 0.000</td> <td>   -0.713</td> <td>   -0.629</td>\n",
       "</tr>\n",
       "<tr>\n",
       "  <th>age</th>       <td>    0.0282</td> <td>    0.000</td> <td>   61.696</td> <td> 0.000</td> <td>    0.027</td> <td>    0.029</td>\n",
       "</tr>\n",
       "</table>"
      ],
      "text/plain": [
       "<class 'statsmodels.iolib.summary.Summary'>\n",
       "\"\"\"\n",
       "                           Logit Regression Results                           \n",
       "==============================================================================\n",
       "Dep. Variable:                      y   No. Observations:                75000\n",
       "Model:                          Logit   Df Residuals:                    74998\n",
       "Method:                           MLE   Df Model:                            1\n",
       "Date:                Wed, 21 Apr 2021   Pseudo R-squ.:                 0.04226\n",
       "Time:                        12:30:27   Log-Likelihood:                -46665.\n",
       "converged:                       True   LL-Null:                       -48724.\n",
       "Covariance Type:            nonrobust   LLR p-value:                     0.000\n",
       "==============================================================================\n",
       "                 coef    std err          z      P>|z|      [0.025      0.975]\n",
       "------------------------------------------------------------------------------\n",
       "Intercept     -0.6713      0.021    -31.239      0.000      -0.713      -0.629\n",
       "age            0.0282      0.000     61.696      0.000       0.027       0.029\n",
       "==============================================================================\n",
       "\"\"\""
      ]
     },
     "execution_count": 16,
     "metadata": {},
     "output_type": "execute_result"
    }
   ],
   "source": [
    "model = get_statsmodels_logit_model(X_train, y_train, grouping=0)\n",
    "model.summary()"
   ]
  },
  {
   "cell_type": "code",
   "execution_count": 26,
   "id": "available-laser",
   "metadata": {},
   "outputs": [],
   "source": [
    "filepath = '../models/smf_logit_model_g5.sav'\n",
    "pickle.dump(model, open(filepath, 'wb'))"
   ]
  },
  {
   "cell_type": "code",
   "execution_count": null,
   "id": "tired-brisbane",
   "metadata": {},
   "outputs": [],
   "source": [
    "'''\n",
    "Ian says\n",
    "y_pred = model.predict(x_test)\n",
    "model.score(y_pred, y_test)\n",
    "'''"
   ]
  },
  {
   "cell_type": "code",
   "execution_count": 7,
   "id": "solar-wedding",
   "metadata": {},
   "outputs": [],
   "source": [
    "logistic_grid = {'C':[0.01,0.03, 0.8, 2, 10, 50],\n",
    "                 'solver':['liblinear'],\n",
    "                 'max_iter' : [50],\n",
    "                 'class_weight':['balanced', None],\n",
    "                 'penalty':['l1', 'l2']}\n",
    "\n",
    "random_forest_grid = {'max_depth': [2, 4, 8],\n",
    "                      'max_features': ['sqrt', 'log2', None],\n",
    "                      'min_samples_leaf': [1, 2, 4],\n",
    "                      'min_samples_split': [2, 4],\n",
    "                      'bootstrap': [True, False],\n",
    "                      'class_weight': ['balanced'],\n",
    "                      'n_estimators': [5,10,25,50,100,200]}\n",
    "\n",
    "grad_boost_grid = {'learning_rate': [0.1, 0.2, 0.3, 0.4, 0.5],\n",
    "                   'max_depth': [2, 4, 8],\n",
    "                   'subsample': [0.25, 0.5, 0.75, 1.0],\n",
    "                   'min_samples_leaf': [1, 2, 4],\n",
    "                   'max_features': ['sqrt', 'log2', None],\n",
    "                   'n_estimators': [5,10,25,50,100,200]}"
   ]
  },
  {
   "cell_type": "code",
   "execution_count": 8,
   "id": "center-mobile",
   "metadata": {},
   "outputs": [],
   "source": [
    "log_clf_rcv = RandomizedSearchCV(LogisticRegression(),\n",
    "                                 logistic_grid,\n",
    "                                 n_jobs=-1,\n",
    "                                 verbose=False,\n",
    "                                 refit = 'roc_auc',\n",
    "                                 scoring=['roc_auc', 'f1', 'balanced_accuracy'])\n",
    "\n",
    "rf_clf_rcv = RandomizedSearchCV(RandomForestClassifier(),\n",
    "                               random_forest_grid,\n",
    "                               n_jobs=-1,\n",
    "                               verbose=False,\n",
    "                                refit = 'roc_auc',\n",
    "                               scoring=['roc_auc', 'f1', 'balanced_accuracy'],\n",
    "                               random_state=0)\n",
    "\n",
    "grad_boost_rcv = RandomizedSearchCV(GradientBoostingClassifier(),\n",
    "                                    grad_boost_grid,\n",
    "                                    n_jobs=-1,\n",
    "                                    verbose=False,\n",
    "                                    refit = 'roc_auc',\n",
    "                                    scoring=['roc_auc', 'f1', 'balanced_accuracy'])"
   ]
  },
  {
   "cell_type": "code",
   "execution_count": 9,
   "id": "subjective-plain",
   "metadata": {},
   "outputs": [],
   "source": [
    "log_search = log_clf_rcv.fit(X_train, y_train)"
   ]
  },
  {
   "cell_type": "code",
   "execution_count": 10,
   "id": "surprised-fitness",
   "metadata": {},
   "outputs": [],
   "source": [
    "best_log = log_search.best_estimator_"
   ]
  },
  {
   "cell_type": "code",
   "execution_count": 11,
   "id": "angry-seminar",
   "metadata": {},
   "outputs": [
    {
     "data": {
      "text/plain": [
       "0.6724707685822838"
      ]
     },
     "execution_count": 11,
     "metadata": {},
     "output_type": "execute_result"
    }
   ],
   "source": [
    "log_clf_rcv.best_score_"
   ]
  },
  {
   "cell_type": "code",
   "execution_count": 12,
   "id": "bacterial-circle",
   "metadata": {},
   "outputs": [
    {
     "data": {
      "text/plain": [
       "0.32197333333333333"
      ]
     },
     "execution_count": 12,
     "metadata": {},
     "output_type": "execute_result"
    }
   ],
   "source": [
    "brier_score_loss(y_test, best_log.predict(X_test), pos_label = 1)"
   ]
  },
  {
   "cell_type": "code",
   "execution_count": 13,
   "id": "settled-dialogue",
   "metadata": {},
   "outputs": [
    {
     "data": {
      "text/plain": [
       "0.783891175944156"
      ]
     },
     "execution_count": 13,
     "metadata": {},
     "output_type": "execute_result"
    }
   ],
   "source": [
    "f1_score(y_test, best_log.predict(X_test))"
   ]
  },
  {
   "cell_type": "code",
   "execution_count": 7,
   "id": "purple-meditation",
   "metadata": {},
   "outputs": [],
   "source": [
    "rf_search = rf_clf_rcv.fit(X_train, y_train)"
   ]
  },
  {
   "cell_type": "code",
   "execution_count": 8,
   "id": "personal-commonwealth",
   "metadata": {},
   "outputs": [],
   "source": [
    "best_rf = rf_search.best_estimator_"
   ]
  },
  {
   "cell_type": "code",
   "execution_count": 16,
   "id": "hairy-statistics",
   "metadata": {},
   "outputs": [
    {
     "data": {
      "text/plain": [
       "0.6820115919772842"
      ]
     },
     "execution_count": 16,
     "metadata": {},
     "output_type": "execute_result"
    }
   ],
   "source": [
    "rf_clf_rcv.best_score_"
   ]
  },
  {
   "cell_type": "code",
   "execution_count": 17,
   "id": "hearing-collins",
   "metadata": {},
   "outputs": [
    {
     "data": {
      "text/plain": [
       "0.35786666666666667"
      ]
     },
     "execution_count": 17,
     "metadata": {},
     "output_type": "execute_result"
    }
   ],
   "source": [
    "brier_score_loss(y_test, best_rf.predict(X_test), pos_label = 1)"
   ]
  },
  {
   "cell_type": "code",
   "execution_count": 18,
   "id": "chubby-demonstration",
   "metadata": {},
   "outputs": [
    {
     "data": {
      "text/plain": [
       "0.7007403443047008"
      ]
     },
     "execution_count": 18,
     "metadata": {},
     "output_type": "execute_result"
    }
   ],
   "source": [
    "f1_score(y_test, best_rf.predict(X_test))"
   ]
  },
  {
   "cell_type": "code",
   "execution_count": 9,
   "id": "artificial-integration",
   "metadata": {},
   "outputs": [],
   "source": [
    "grad_boost_search = grad_boost_rcv.fit(X_train, y_train)"
   ]
  },
  {
   "cell_type": "code",
   "execution_count": 10,
   "id": "concerned-extraction",
   "metadata": {},
   "outputs": [],
   "source": [
    "best_gb = grad_boost_search.best_estimator_"
   ]
  },
  {
   "cell_type": "code",
   "execution_count": 28,
   "id": "advance-wisconsin",
   "metadata": {},
   "outputs": [
    {
     "data": {
      "text/plain": [
       "0.6838445091307068"
      ]
     },
     "execution_count": 28,
     "metadata": {},
     "output_type": "execute_result"
    }
   ],
   "source": [
    "grad_boost_rcv.best_score_"
   ]
  },
  {
   "cell_type": "code",
   "execution_count": 29,
   "id": "exceptional-assignment",
   "metadata": {},
   "outputs": [
    {
     "data": {
      "text/plain": [
       "0.31696"
      ]
     },
     "execution_count": 29,
     "metadata": {},
     "output_type": "execute_result"
    }
   ],
   "source": [
    "brier_score_loss(y_test, best_gb.predict(X_test), pos_label = 1)"
   ]
  },
  {
   "cell_type": "code",
   "execution_count": 30,
   "id": "enclosed-syntax",
   "metadata": {},
   "outputs": [
    {
     "data": {
      "text/plain": [
       "0.7838358854981268"
      ]
     },
     "execution_count": 30,
     "metadata": {},
     "output_type": "execute_result"
    }
   ],
   "source": [
    "f1_score(y_test, best_gb.predict(X_test))"
   ]
  },
  {
   "cell_type": "code",
   "execution_count": 31,
   "id": "distinguished-snake",
   "metadata": {},
   "outputs": [],
   "source": [
    "X = hold\n",
    "# X = X.drop(['age'], axis=1)\n",
    "y = X.pop('voted')"
   ]
  },
  {
   "cell_type": "code",
   "execution_count": 32,
   "id": "varied-cambridge",
   "metadata": {},
   "outputs": [],
   "source": [
    "X_train, X_test, y_train, y_test = train_test_split(X, y, random_state=1, stratify = y)"
   ]
  },
  {
   "cell_type": "code",
   "execution_count": 33,
   "id": "integrated-floating",
   "metadata": {},
   "outputs": [
    {
     "data": {
      "text/plain": [
       "0.6808"
      ]
     },
     "execution_count": 33,
     "metadata": {},
     "output_type": "execute_result"
    }
   ],
   "source": [
    "best_log.score(X_test, y_test)"
   ]
  },
  {
   "cell_type": "code",
   "execution_count": 267,
   "id": "severe-crazy",
   "metadata": {},
   "outputs": [
    {
     "data": {
      "image/png": "[encoded data removed]",
      "text/plain": [
       "<Figure size 432x288 with 2 Axes>"
      ]
     },
     "metadata": {},
     "output_type": "display_data"
    }
   ],
   "source": [
    "plot_confusion_matrix(best_log, X_test, y_test, normalize = 'true')\n",
    "plt.show()"
   ]
  },
  {
   "cell_type": "code",
   "execution_count": 34,
   "id": "acknowledged-power",
   "metadata": {},
   "outputs": [
    {
     "data": {
      "text/plain": [
       "0.64416"
      ]
     },
     "execution_count": 34,
     "metadata": {},
     "output_type": "execute_result"
    }
   ],
   "source": [
    "best_rf.score(X_test, y_test)"
   ]
  },
  {
   "cell_type": "code",
   "execution_count": 266,
   "id": "relevant-soviet",
   "metadata": {},
   "outputs": [
    {
     "data": {
      "image/png": "[encoded data removed]",
      "text/plain": [
       "<Figure size 432x288 with 2 Axes>"
      ]
     },
     "metadata": {},
     "output_type": "display_data"
    }
   ],
   "source": [
    "plot_confusion_matrix(best_rf, X_test, y_test, normalize = 'true')\n",
    "plt.show()"
   ]
  },
  {
   "cell_type": "code",
   "execution_count": 35,
   "id": "cloudy-speaker",
   "metadata": {},
   "outputs": [
    {
     "data": {
      "text/plain": [
       "0.6864"
      ]
     },
     "execution_count": 35,
     "metadata": {},
     "output_type": "execute_result"
    }
   ],
   "source": [
    "best_gb.score(X_test, y_test)"
   ]
  },
  {
   "cell_type": "code",
   "execution_count": 265,
   "id": "colonial-duration",
   "metadata": {},
   "outputs": [
    {
     "data": {
      "image/png": "[encoded data removed]",
      "text/plain": [
       "<Figure size 432x288 with 2 Axes>"
      ]
     },
     "metadata": {},
     "output_type": "display_data"
    }
   ],
   "source": [
    "plot_confusion_matrix(best_gb, X_test, y_test, normalize = 'true')\n",
    "plt.show()"
   ]
  },
  {
   "cell_type": "code",
   "execution_count": 58,
   "id": "painted-origin",
   "metadata": {},
   "outputs": [
    {
     "data": {
      "image/png": "[encoded data removed]",
      "text/plain": [
       "<Figure size 720x432 with 2 Axes>"
      ]
     },
     "metadata": {},
     "output_type": "display_data"
    }
   ],
   "source": [
    "# labels = ['Logistic Regression', 'Random Forrest', 'Gradient Boosted']\n",
    "tp = .9 \n",
    "fp = .73\n",
    "tn = .27\n",
    "fn = .096\n",
    "\n",
    "tp2 = .98\n",
    "fp2 = .93\n",
    "tn2 = .069\n",
    "fn2 = .018\n",
    "\n",
    "# x = np.arange(len(labels))  # the label locations\n",
    "# width = 0.18  # the width of the bars\n",
    "\n",
    "fig, axs = plt.subplots(ncols = 2, sharey=True, figsize=(10,6))\n",
    "# rects1 = ax.bar(x - 1.5*width, tp, width, color='#15B01A', label='Correctly Predicted to Vote')\n",
    "# rects2 = ax.bar(x - width/2, fp, width, color='#F97306', label='Incorrectly Predicted to Vote')\n",
    "# rects3 = ax.bar(x + width/2, tn, width, color='#0343DF', label='Correctly Predicted to Would not Vote')\n",
    "# rects4 = ax.bar(x + 1.5*width, fn, width, color='#E50000', label='Incorrectly Predicted to Would not Vote')\n",
    "\n",
    "axs[0].bar(x='Predicted to Vote', height=tp, color='#F8766D', alpha = 0.5, label='Correctly Predicted to Vote')\n",
    "axs[0].bar(x='Predicted to Vote', height=fn, color='#696969', alpha = 0.5, bottom=tp)\n",
    "axs[0].bar(x='Predicted not to Vote', height=tn, color='#619CFF', alpha = 0.5, label='Correctly Predicted to Would not Vote')\n",
    "axs[0].bar(x='Predicted not to Vote', height=fp, color='#696969', alpha = 0.5, bottom=tn, label= 'Incorrect Predictions')\n",
    "\n",
    "axs[1].bar(x='Predicted to Vote', height=tp2, color='#F8766D', alpha = 0.5, label='Correctly Predicted to Vote')\n",
    "axs[1].bar(x='Predicted to Vote', height=fn2, color='#696969', alpha = 0.5,  bottom=tp2)\n",
    "axs[1].bar(x='Predicted not to Vote', height=tn2, color='#619CFF', alpha = 0.5,  label='Correctly Predicted Would not Vote')\n",
    "axs[1].bar(x='Predicted not to Vote', height=fp2, color='#696969', alpha = 0.5,  bottom=tn2, label= 'Incorrect Predictions')\n",
    "\n",
    "axs[0].text(x='Predicted to Vote', y=tp/2, s=str(f\"{tp:.1%}\"), ha='center')\n",
    "axs[0].text(x='Predicted not to Vote', y=tn/2, s=str(f\"{tn:.1%}\"), ha='center')\n",
    "\n",
    "axs[1].text(x='Predicted to Vote', y=tp2/2, s=str(f\"{tp2:.1%}\"), ha='center')\n",
    "axs[1].text(x='Predicted not to Vote', y=tn2/2, s=str(f\"{tn2:.1%}\"), ha='center')\n",
    "\n",
    "\n",
    "# Add some text for labels, title and custom x-axis tick labels, etc.\n",
    "axs[0].set_ylabel('Percent Predicted')\n",
    "axs[0].set_title('Logistic Regression')\n",
    "axs[1].set_title('Gradient Boosted')\n",
    "# ax.set_xticks(x)\n",
    "# ax.set_xticklabels(labels)\n",
    "ax.legend(loc='best')\n",
    "\n",
    "fig.tight_layout()\n",
    "plt.savefig(\"../images/confusion_bar.png\", transparent= True, dpi=200)\n",
    "\n",
    "plt.show()"
   ]
  },
  {
   "cell_type": "code",
   "execution_count": 37,
   "id": "tracked-washington",
   "metadata": {},
   "outputs": [
    {
     "data": {
      "image/png": "[encoded data removed]",
      "text/plain": [
       "<Figure size 432x288 with 1 Axes>"
      ]
     },
     "metadata": {},
     "output_type": "display_data"
    }
   ],
   "source": [
    "# predict probabilities\n",
    "yhat = best_log.predict_proba(X_test)\n",
    "# keep probabilities for the positive outcome only\n",
    "yhat = yhat[:, 1]\n",
    "# calculate roc curves\n",
    "fpr, tpr, thresholds = roc_curve(y_test, yhat)\n",
    "# plot the roc curve for the model\n",
    "plt.plot([0,1], [0,1], linestyle='--', label='Random guess')\n",
    "plt.plot(fpr, tpr, marker='.', label='Logistic Regression')\n",
    "# axis labels\n",
    "plt.xlabel('False Positive Rate')\n",
    "plt.ylabel('True Positive Rate')\n",
    "plt.legend()\n",
    "# show the plot\n",
    "plt.savefig(\"../images/best_log_roc_curve.png\", dpi=200)\n",
    "plt.show()"
   ]
  },
  {
   "cell_type": "code",
   "execution_count": 38,
   "id": "minimal-louisville",
   "metadata": {},
   "outputs": [
    {
     "name": "stdout",
     "output_type": "stream",
     "text": [
      "              precision    recall  f1-score   support\n",
      "\n",
      "           0       0.61      0.27      0.38      2218\n",
      "           1       0.69      0.91      0.79      4032\n",
      "\n",
      "    accuracy                           0.68      6250\n",
      "   macro avg       0.65      0.59      0.58      6250\n",
      "weighted avg       0.66      0.68      0.64      6250\n",
      "\n"
     ]
    }
   ],
   "source": [
    "print(classification_report(y_test, best_log.predict(X_test)))"
   ]
  },
  {
   "cell_type": "code",
   "execution_count": 39,
   "id": "turkish-mongolia",
   "metadata": {},
   "outputs": [
    {
     "data": {
      "image/png": "[encoded data removed]",
      "text/plain": [
       "<Figure size 432x288 with 1 Axes>"
      ]
     },
     "metadata": {},
     "output_type": "display_data"
    }
   ],
   "source": [
    "# predict probabilities\n",
    "yhat = best_rf.predict_proba(X_test)\n",
    "# keep probabilities for the positive outcome only\n",
    "yhat = yhat[:, 1]\n",
    "# calculate roc curves\n",
    "fpr, tpr, thresholds = roc_curve(y_test, yhat)\n",
    "# plot the roc curve for the model\n",
    "plt.plot([0,1], [0,1], linestyle='--', label='Random guess')\n",
    "plt.plot(fpr, tpr, marker='.', label='Random Forrest')\n",
    "# axis labels\n",
    "plt.xlabel('False Positive Rate')\n",
    "plt.ylabel('True Positive Rate')\n",
    "plt.legend()\n",
    "# show the plot\n",
    "plt.savefig(\"../images/best_rf_roc_curve.png\", dpi=200)\n",
    "plt.show()"
   ]
  },
  {
   "cell_type": "code",
   "execution_count": 40,
   "id": "provincial-palestinian",
   "metadata": {},
   "outputs": [
    {
     "name": "stdout",
     "output_type": "stream",
     "text": [
      "              precision    recall  f1-score   support\n",
      "\n",
      "           0       0.50      0.64      0.56      2218\n",
      "           1       0.76      0.65      0.70      4032\n",
      "\n",
      "    accuracy                           0.64      6250\n",
      "   macro avg       0.63      0.64      0.63      6250\n",
      "weighted avg       0.67      0.64      0.65      6250\n",
      "\n"
     ]
    }
   ],
   "source": [
    "print(classification_report(y_test, best_rf.predict(X_test)))"
   ]
  },
  {
   "cell_type": "code",
   "execution_count": 11,
   "id": "chronic-chapel",
   "metadata": {},
   "outputs": [
    {
     "data": {
      "text/plain": [
       "['AI',\n",
       " 'AP',\n",
       " 'BH',\n",
       " 'HP',\n",
       " 'OT',\n",
       " 'U',\n",
       " 'WH',\n",
       " 'F',\n",
       " 'M',\n",
       " 'O',\n",
       " 'cd_1',\n",
       " 'cd_2',\n",
       " 'cd_3',\n",
       " 'cd_4',\n",
       " 'cd_5',\n",
       " 'cd_6',\n",
       " 'cd_7',\n",
       " 'cd_8',\n",
       " 'cd_9',\n",
       " 'cd_10',\n",
       " 'cd_11',\n",
       " 'cd_12',\n",
       " 'cd_13',\n",
       " 'cd_14',\n",
       " 'cd_99999',\n",
       " 'age',\n",
       " 'rural',\n",
       " 'urban',\n",
       " 'military']"
      ]
     },
     "execution_count": 11,
     "metadata": {},
     "output_type": "execute_result"
    }
   ],
   "source": [
    "X_train.columns.tolist()"
   ]
  },
  {
   "cell_type": "code",
   "execution_count": 17,
   "id": "super-banking",
   "metadata": {},
   "outputs": [
    {
     "name": "stdout",
     "output_type": "stream",
     "text": [
      "Feature ranking:\n",
      "1. feature 25 (0.621559)\n",
      "2. feature 6 (0.143443)\n",
      "3. feature 8 (0.036803)\n",
      "4. feature 7 (0.032594)\n",
      "5. feature 5 (0.018194)\n",
      "6. feature 14 (0.017682)\n",
      "7. feature 15 (0.016098)\n",
      "8. feature 2 (0.012856)\n",
      "9. feature 26 (0.010138)\n",
      "10. feature 10 (0.008683)\n",
      "11. feature 27 (0.008656)\n",
      "12. feature 16 (0.007640)\n",
      "13. feature 23 (0.006494)\n",
      "14. feature 19 (0.006406)\n",
      "15. feature 1 (0.006095)\n",
      "16. feature 20 (0.005554)\n",
      "17. feature 22 (0.005158)\n",
      "18. feature 11 (0.004520)\n",
      "19. feature 18 (0.004291)\n",
      "20. feature 28 (0.004068)\n",
      "21. feature 17 (0.003997)\n",
      "22. feature 13 (0.003940)\n",
      "23. feature 21 (0.003858)\n",
      "24. feature 12 (0.003601)\n",
      "25. feature 3 (0.002855)\n",
      "26. feature 4 (0.002472)\n",
      "27. feature 24 (0.001097)\n",
      "28. feature 0 (0.000684)\n",
      "29. feature 9 (0.000562)\n"
     ]
    },
    {
     "data": {
      "image/png": "[encoded data removed]",
      "text/plain": [
       "<Figure size 720x576 with 1 Axes>"
      ]
     },
     "metadata": {},
     "output_type": "display_data"
    }
   ],
   "source": [
    "importances = best_rf.feature_importances_\n",
    "std = np.std([best_rf.feature_importances_ for tree in best_rf.estimators_],\n",
    "             axis=0)\n",
    "indices = np.argsort(importances)[::-1]\n",
    "names = ['AI',\n",
    " 'AP',\n",
    " 'Black/Hispanic',\n",
    " 'Hispanic',\n",
    " 'OT',\n",
    " 'Unknown (Race)',\n",
    " 'White',\n",
    " 'Female',\n",
    " 'Male',\n",
    " 'O',\n",
    " 'District 1',\n",
    " 'cd_2',\n",
    " 'cd_3',\n",
    " 'cd_4',\n",
    " 'District 5',\n",
    " 'District 6',\n",
    " 'District 7',\n",
    " 'cd_8',\n",
    " 'cd_9',\n",
    " 'cd_10',\n",
    " 'cd_11',\n",
    " 'cd_12',\n",
    " 'cd_13',\n",
    " 'cd_14',\n",
    " 'Unknown District',\n",
    " 'Age',\n",
    " 'rural',\n",
    " 'urban',\n",
    " 'military']\n",
    "\n",
    "# [, '', '', '', '' ]\n",
    "labels = []\n",
    "for val in indices:\n",
    "    labels.append(names[val])\n",
    "# labels = X_train.columns.tolist()[:-1]\n",
    "\n",
    "# Print the feature ranking\n",
    "print(\"Feature ranking:\")\n",
    "\n",
    "for f in range(X_train.shape[1]):\n",
    "    print(\"%d. feature %d (%f)\" % (f + 1, indices[f], importances[indices[f]]))\n",
    "\n",
    "# Plot the impurity-based feature importances of the forest\n",
    "\n",
    "plt.figure(figsize = (10,8))\n",
    "plt.title(\"Feature importances in Random Forest Model\", fontsize = 24)\n",
    "plt.bar(range(X_train.shape[1]), importances[indices],\n",
    "        color='#F8766D', alpha = 0.5, yerr=std[indices], align=\"center\")\n",
    "#plt.xticks(range(X_train.shape[1]), indices)\n",
    "plt.xticks(range(X_train.shape[1]), labels, rotation=45)\n",
    "plt.xlim([-1, 6])\n",
    "plt.xlabel(\"Feature listed in descending importance level\", fontsize = 13)\n",
    "plt.savefig(\"../images/rf_feature_importance.png\", dpi=200, transparent = 'true')\n",
    "plt.show()"
   ]
  },
  {
   "cell_type": "code",
   "execution_count": 43,
   "id": "dirty-assignment",
   "metadata": {},
   "outputs": [
    {
     "data": {
      "image/png": "[encoded data removed]",
      "text/plain": [
       "<Figure size 432x288 with 1 Axes>"
      ]
     },
     "metadata": {},
     "output_type": "display_data"
    }
   ],
   "source": [
    "# predict probabilities\n",
    "yhat = best_gb.predict_proba(X_test)\n",
    "# keep probabilities for the positive outcome only\n",
    "yhat = yhat[:, 1]\n",
    "# calculate roc curves\n",
    "fpr, tpr, thresholds = roc_curve(y_test, yhat)\n",
    "# plot the roc curve for the model\n",
    "plt.plot([0,1], [0,1], linestyle='--', label='Random guess')\n",
    "plt.plot(fpr, tpr, marker='.', label='Gradient Boost')\n",
    "# axis labels\n",
    "plt.xlabel('False Positive Rate')\n",
    "plt.ylabel('True Positive Rate')\n",
    "plt.legend()\n",
    "# show the plot\n",
    "plt.savefig(\"../images/best_gb_roc_curve.png\", dpi=200, transparent = 'true')\n",
    "plt.show()\n"
   ]
  },
  {
   "cell_type": "code",
   "execution_count": 44,
   "id": "careful-allah",
   "metadata": {},
   "outputs": [
    {
     "name": "stdout",
     "output_type": "stream",
     "text": [
      "              precision    recall  f1-score   support\n",
      "\n",
      "           0       0.62      0.31      0.41      2218\n",
      "           1       0.70      0.90      0.79      4032\n",
      "\n",
      "    accuracy                           0.69      6250\n",
      "   macro avg       0.66      0.60      0.60      6250\n",
      "weighted avg       0.67      0.69      0.65      6250\n",
      "\n"
     ]
    }
   ],
   "source": [
    "print(classification_report(y_test, best_gb.predict(X_test)))"
   ]
  },
  {
   "cell_type": "code",
   "execution_count": 18,
   "id": "former-ideal",
   "metadata": {},
   "outputs": [
    {
     "name": "stdout",
     "output_type": "stream",
     "text": [
      "Feature ranking:\n",
      "1. feature 25 (0.598888)\n",
      "2. feature 6 (0.124551)\n",
      "3. feature 5 (0.052699)\n",
      "4. feature 7 (0.036387)\n",
      "5. feature 2 (0.032779)\n",
      "6. feature 8 (0.027257)\n",
      "7. feature 14 (0.019660)\n",
      "8. feature 15 (0.016065)\n",
      "9. feature 24 (0.011022)\n",
      "10. feature 3 (0.010365)\n",
      "11. feature 16 (0.007944)\n",
      "12. feature 10 (0.007213)\n",
      "13. feature 27 (0.005687)\n",
      "14. feature 20 (0.005671)\n",
      "15. feature 28 (0.005221)\n",
      "16. feature 11 (0.005122)\n",
      "17. feature 19 (0.004369)\n",
      "18. feature 26 (0.004100)\n",
      "19. feature 1 (0.003975)\n",
      "20. feature 21 (0.003778)\n",
      "21. feature 23 (0.002545)\n",
      "22. feature 13 (0.002475)\n",
      "23. feature 4 (0.002462)\n",
      "24. feature 17 (0.002155)\n",
      "25. feature 9 (0.001962)\n",
      "26. feature 18 (0.001716)\n",
      "27. feature 0 (0.001358)\n",
      "28. feature 22 (0.001352)\n",
      "29. feature 12 (0.001224)\n"
     ]
    },
    {
     "data": {
      "image/png": "[encoded data removed]",
      "text/plain": [
       "<Figure size 720x576 with 1 Axes>"
      ]
     },
     "metadata": {},
     "output_type": "display_data"
    }
   ],
   "source": [
    "importances = best_gb.feature_importances_\n",
    "std = np.std([best_gb.feature_importances_ for tree in best_gb.estimators_],\n",
    "             axis=0)\n",
    "indices = np.argsort(importances)[::-1]\n",
    "names = ['AI',\n",
    " 'AP',\n",
    " 'Black/Hispanic',\n",
    " 'Hispanic',\n",
    " 'OT',\n",
    " 'Unknown (Race)',\n",
    " 'White',\n",
    " 'Female',\n",
    " 'Male',\n",
    " 'O',\n",
    " 'District 1',\n",
    " 'cd_2',\n",
    " 'cd_3',\n",
    " 'cd_4',\n",
    " 'District 5',\n",
    " 'District 6',\n",
    " 'District 7',\n",
    " 'cd_8',\n",
    " 'cd_9',\n",
    " 'cd_10',\n",
    " 'cd_11',\n",
    " 'cd_12',\n",
    " 'cd_13',\n",
    " 'cd_14',\n",
    " 'Unknown District',\n",
    " 'Age',\n",
    " 'rural',\n",
    " 'urban',\n",
    " 'military']\n",
    "labels = []\n",
    "for val in indices:\n",
    "    labels.append(names[val])\n",
    "\n",
    "# Print the feature ranking\n",
    "print(\"Feature ranking:\")\n",
    "\n",
    "for f in range(X.shape[1]):\n",
    "    print(\"%d. feature %d (%f)\" % (f + 1, indices[f], importances[indices[f]]))\n",
    "\n",
    "# Plot the impurity-based feature importances of the forest\n",
    "plt.figure(figsize = (10,8))\n",
    "plt.title(\"Feature importances in Gradient Boosted model\", fontsize = 24)\n",
    "plt.bar(range(X_train.shape[1]), importances[indices],\n",
    "        color='#F8766D', alpha = 0.5, yerr=std[indices], align=\"center\")\n",
    "plt.xticks(range(X_train.shape[1]), labels, rotation = 45)\n",
    "plt.xlim([-1, 10])\n",
    "plt.xlabel(\"Feature listed in descending importance level\", fontsize = 13)\n",
    "plt.ylabel(\"Importance Value\", fontsize = 13)\n",
    "plt.savefig(\"../images/gb_feature_importance.png\", dpi=200, transparent = 'true')\n",
    "plt.show()"
   ]
  },
  {
   "cell_type": "code",
   "execution_count": null,
   "id": "cathedral-feeling",
   "metadata": {},
   "outputs": [],
   "source": []
  }
 ],
 "metadata": {
  "kernelspec": {
   "display_name": "Python 3",
   "language": "python",
   "name": "python3"
  },
  "language_info": {
   "codemirror_mode": {
    "name": "ipython",
    "version": 3
   },
   "file_extension": ".py",
   "mimetype": "text/x-python",
   "name": "python",
   "nbconvert_exporter": "python",
   "pygments_lexer": "ipython3",
   "version": "3.7.9"
  }
 },
 "nbformat": 4,
 "nbformat_minor": 5
}
